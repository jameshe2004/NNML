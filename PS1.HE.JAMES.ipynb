{
 "cells": [
  {
   "cell_type": "markdown",
   "metadata": {},
   "source": [
    "# Problem Set 1 - James He"
   ]
  },
  {
   "cell_type": "markdown",
   "metadata": {},
   "source": [
    "# AML"
   ]
  },
  {
   "cell_type": "markdown",
   "metadata": {},
   "source": [
    "## Exercise 1.1\n",
    "\n",
    "Express each of the following tasks in the framework of learnign from data by specifying the input space $X$, output space $Y$, target function $f:Xarrow Y$, and the specifics of the data set that we will learn from"
   ]
  },
  {
   "cell_type": "markdown",
   "metadata": {},
   "source": [
    "### (a) Medical diagnosis: A patient walks in with a medical history and some symptoms, and you want to identify the problem.\n",
    "\n",
    "$X$ = medical history and symptoms <br>\n",
    "$Y$ = possible diagnoses<br>\n",
    "$f$ = mapping from medical history and symptoms to diagnoses<br>\n",
    "\n",
    "The dataset will compose of medical histories, symptoms, and previous correct and incorrect diagnoses."
   ]
  },
  {
   "cell_type": "markdown",
   "metadata": {},
   "source": [
    "### (b) Handwritten digit recognition (for example postal zip code recognition for mail sorting)\n",
    "\n",
    "$X$ = images of handwritten digits<br>\n",
    "$Y$ = possible digits<br>\n",
    "$f$ = mapping from images of handwritten digits to digits<br>\n",
    "\n",
    "The dataset will compose of images of handwritten digits and the correct digit in the image"
   ]
  },
  {
   "cell_type": "markdown",
   "metadata": {},
   "source": [
    "### (c) Determining if an email is spam or not\n",
    "\n",
    "$X$ = email contents<br>\n",
    "$Y$ = spam or not spam<br>\n",
    "$f$ = mapping from email contents to spam or not spam<br>\n",
    "\n",
    "The dataset will compose of emails and for each email whether or not they are spam"
   ]
  },
  {
   "cell_type": "markdown",
   "metadata": {},
   "source": [
    "### (d) Predicting how an electric load varies with price, weather, and the time of day so that you can buy and sell energy accordingly.\n",
    "\n",
    "$X$ = price, weather, and time of day<br>\n",
    "$Y$ = electric load<br>\n",
    "$f$ = mapping from price, weather, and time of day to electric load<br>\n",
    "\n",
    "The dataset will compose of price, weather, and time of day and the corresponding electric load"
   ]
  },
  {
   "cell_type": "markdown",
   "metadata": {},
   "source": [
    "### (e) Predicting the price of a stock in 6 months from now so that you can decide whether to buy it now or later.\n",
    "\n",
    "$X$ = stock price<br>\n",
    "$Y$ = stock price in 6 months<br>\n",
    "$f$ = mapping from stock price to stock price in 6 months<br>\n",
    "\n",
    "The dataset will compose of stock prices and the corresponding stock price in 6 months"
   ]
  },
  {
   "cell_type": "markdown",
   "metadata": {},
   "source": [
    "## Exercise 1.2\n",
    "\n",
    "Suppose that we use a perceptron to detect spam messages. Let's say that each email message is represented by the frequency of occurrence of keywords, and the output is +1 if the message is spam."
   ]
  },
  {
   "cell_type": "markdown",
   "metadata": {},
   "source": [
    "### (a) Can you think of some keywords that will end up witha large positive weight in the perceptron?\n",
    "\n",
    "Keywords that are more likely to appear in spam messages than non-spam messages will end up with a large positive weight in the perceptron. For example, \"free\" is more likely to appear in spam messages than non-spam messages because these emails tend to be advertisements. Some other keywords might be misspellings of common words, as these emails are targeted towards people who are less likely to notice the misspellings. Another keyword might be very casual greetings. Or the opposite might be true and phishing emails posing as companies may flag company names as spam. Company names and product names might be a keyword that ends up with a large positive weight due to the fact that they aren't brought up in non-spam emails."
   ]
  },
  {
   "cell_type": "markdown",
   "metadata": {},
   "source": [
    "### (b) How about keywords that will get a negative weight?\n",
    "\n",
    "Keywords that are more likely to appear in non-spam messages than spam messages will end up with a large negative weight in the perceptron. For example, \"homework\" is more likely to appear in non-spam messages than spam messages because these emails tend to be from teachers or classmates. Company names and product names if the email is a part of that company might be a keyword that ends up with a large negative weight due to the fact that they are sometimes included as headers and footers in emails. Another keyword might be \"unsubscribe\" because non-spam emails tend to not have an unsubscribe button because they tend to stem from email lists that the user has already subscribed to. This could be comapany wide notices or just mass mail from companies that the user has subscribed to."
   ]
  },
  {
   "cell_type": "markdown",
   "metadata": {},
   "source": [
    "### (c) What parameter in the perceptron directly affects how many borderline messages end up classified as spam?\n",
    "\n",
    "The threshold parameter in the perceptron directly affects how many borderline messages end up classified as spam. If the threshold is set to a high value, then borderline messages will be classified as non-spam. If the threshold is set to a low value, then borderline messages will be classified as spam. The threshold parameter is the value that the dot product of the weights and the input must be greater than in order for the perceptron to classify the input as spam. "
   ]
  },
  {
   "cell_type": "markdown",
   "metadata": {},
   "source": [
    "## Exercise 1.3\n",
    "\n",
    "A weight update rule in (1.3) has the nice interpretation that it moves in the direction of classifying $x(t)$ correctly."
   ]
  },
  {
   "cell_type": "markdown",
   "metadata": {},
   "source": [
    "### (a) Show that $y(t)w^Ttx(t)<0$. \n",
    "\n",
    "Because the point is misclassified because $y(t)w^Ttx(t)$ is the dot product of the weights and the input, which is the value that the perceptron uses to classify the input. If the input is misclassified, then the dot product of the weights and the input must be negative. This is due to the fact that a misclassification means that the input is on the wrong side of the decision boundary, which means that $y(t)$ and $w^Ttx(t)$ have opposite signs and the product would therefore be negative"
   ]
  },
  {
   "cell_type": "markdown",
   "metadata": {},
   "source": [
    "### (b) Show that $y(t)w^T(t-1)x(t)>y(t)w^T(t)x(t)$\n",
    "\n",
    "Because the point is misclassified, $y(t)w^T(t)x(t)<0$. The weight update rule is $w(t)=w(t-1)+y(t)x(t)$, $y(t)w^T(t-1)x(t)>y(t)w^T(t)x(t)$ because $w(t-1)$ is closer to the correct weight than $w(t)$ is. This is because $w(t-1)$ is the weight that would have correctly classified $x(t)$, while $w(t)$ is the weight that misclassified $x(t)$. And the dot product of $w(t-1)$ and $x(t)$ is greater than the dot product of $w(t)$ and $x(t)$ because $w(t-1)$ is closer to the correct weight than $w(t)$ is and $x(t)$ is the same for both dot products. "
   ]
  },
  {
   "cell_type": "markdown",
   "metadata": {},
   "source": [
    "### (c) As far as classifying $x(t)$ is concerned, argue that the move from $w(t-1)$ to $w(t)$ is a move in the right direction.\n",
    "\n",
    "The move from $w(t-1)$ to $w(t)$ is a move in the right direction because it moves the weights closer to the correct classification. This is because the dot product of the weights and the input before the update is negative when the input is misclassified. This results in the weights being updated in the direction of the input, which is the direction of the correct classification. This results in the weights being updated in the direction of the input, which is the direction of the correct classification."
   ]
  },
  {
   "cell_type": "markdown",
   "metadata": {},
   "source": [
    "## Exercise 1.4\n",
    "\n",
    "Let us creat our own target function $f$ and data set $\\mathcal{D}$ to see how the perceptron learning algorithm works. Take $d=2$ so you can visualize the problem, and assume $X=\\mathcal{R}^2$. Choose a random line in the plane as your target function, where one side of the line maps to +1 and the other maps to -1. Choose the inputs $\\mathbf{x}_n$ of the data set as random points in the plane, and evaluate the target function on each $\\mathbf{x}_n$ to get the corresponding output $y_n$.\n",
    "\n",
    "Now, generate a data set of size 20. Try the perceptron learning algorithm on your data set and see how long it takes to converge and how well the final hypothesis $g$ matches your target $f$. You can find the Python code for the perceptron learning algorithm on the book website."
   ]
  },
  {
   "cell_type": "markdown",
   "metadata": {},
   "source": [
    "### Solution"
   ]
  },
  {
   "cell_type": "code",
   "execution_count": 6,
   "metadata": {},
   "outputs": [
    {
     "name": "stdout",
     "output_type": "stream",
     "text": [
      "Converged after 2 epochs.\n"
     ]
    },
    {
     "data": {
      "image/png": "[encoded data removed]",
      "text/plain": [
       "<Figure size 640x480 with 1 Axes>"
      ]
     },
     "metadata": {},
     "output_type": "display_data"
    }
   ],
   "source": [
    "import numpy as np\n",
    "import matplotlib.pyplot as plt\n",
    "\n",
    "# Step 2: Define the target function f as a random line in the plane.\n",
    "# Choose a random slope (m) between -1 and 1\n",
    "m = np.random.uniform(-1, 1)\n",
    "\n",
    "# Step 3: Generate random data points X and calculate their corresponding labels y\n",
    "X = np.random.uniform(-1, 1, size=(20, 2))\n",
    "y = np.sign(X[:, 1] - m * X[:, 0])\n",
    "\n",
    "# Step 4: Initialize the perceptron weights and bias\n",
    "w = np.zeros(2)\n",
    "b = 0\n",
    "\n",
    "# Step 5: Implement the perceptron learning algorithm\n",
    "def perceptron(X, y, w, b, learning_rate, max_epochs):\n",
    "    for epoch in range(max_epochs):\n",
    "        misclassified = 0\n",
    "        for i in range(len(X)):\n",
    "            # If a point is misclassified, update weights and bias\n",
    "            if y[i] * (np.dot(X[i], w) + b) <= 0:\n",
    "                w += learning_rate * y[i] * X[i]\n",
    "                b += learning_rate * y[i]\n",
    "                misclassified += 1\n",
    "        # If all points are correctly classified, break the loop\n",
    "        if misclassified == 0:\n",
    "            print(f\"Converged after {epoch+1} epochs.\")\n",
    "            break\n",
    "    return w, b\n",
    "\n",
    "# Set learning rate and maximum number of epochs\n",
    "learning_rate = 1\n",
    "max_epochs = 100\n",
    "\n",
    "# Apply the perceptron algorithm to find the weights and bias\n",
    "w, b = perceptron(X, y, w, b, learning_rate, max_epochs)\n",
    "\n",
    "# Step 6: Visualize the results\n",
    "plt.scatter(X[y == 1][:, 0], X[y == 1][:, 1], marker='o', label='+1')\n",
    "plt.scatter(X[y == -1][:, 0], X[y == -1][:, 1], marker='x', label='-1')\n",
    "\n",
    "# Plot the target line\n",
    "x_line = np.linspace(-1, 1, 100)\n",
    "y_line = m * x_line\n",
    "plt.plot(x_line, y_line, linestyle='--', color='red', label='Target Line')\n",
    "\n",
    "# Plot the decision boundary\n",
    "if w[1] != 0:\n",
    "    x_decision = np.linspace(-1, 1, 100)\n",
    "    y_decision = (-w[0] / w[1]) * x_decision - (b / w[1])\n",
    "    plt.plot(x_decision, y_decision, linestyle='-', color='blue', label='Decision Boundary')\n",
    "\n",
    "plt.xlim(-1, 1)\n",
    "plt.ylim(-1, 1)\n",
    "plt.legend()\n",
    "plt.xlabel('X1')\n",
    "plt.ylabel('X2')\n",
    "plt.title('Perceptron Learning Algorithm')\n",
    "plt.show()\n"
   ]
  },
  {
   "cell_type": "markdown",
   "metadata": {},
   "source": [
    "## Exercise 1.5\n",
    "\n",
    "Which of the following problems are more suited for a linear approach and which are more suited for the design approach?"
   ]
  },
  {
   "cell_type": "markdown",
   "metadata": {},
   "source": [
    "### (a) Determining the age at which a particular medical test should be performed\n",
    "\n",
    "Linear Approach"
   ]
  },
  {
   "cell_type": "markdown",
   "metadata": {},
   "source": [
    "### (b) Classifying numbers in to primes and non-primes\n",
    "\n",
    "Design Approach"
   ]
  },
  {
   "cell_type": "markdown",
   "metadata": {},
   "source": [
    "### (c) Detecting potential fraud in credit card charges\n",
    "\n",
    "Linear Approach"
   ]
  },
  {
   "cell_type": "markdown",
   "metadata": {},
   "source": [
    "### (d) Determining the time it would take a falling object to hit the ground\n",
    "\n",
    "Design Approach"
   ]
  },
  {
   "cell_type": "markdown",
   "metadata": {},
   "source": [
    "### (e) Determining the optimal cycle for traffic lights in a busy intersection\n",
    "\n",
    "Linear Approach"
   ]
  },
  {
   "cell_type": "markdown",
   "metadata": {},
   "source": [
    "## Exercise 1.6\n",
    "\n",
    "For each of the following tasks, identify which type of learning is involved (supervised, unsupervised, or reinforcement) and the training data to be used. If a task can fit more than one type, explain how and describe the training data for each type."
   ]
  },
  {
   "cell_type": "markdown",
   "metadata": {},
   "source": [
    "### (a) Reccomending a book to a user in an online bookstore\n",
    "\n",
    "Supervised learning because the user's previous purchases and the books that they have rated highly can be used as training data. The training data would be the user's previous purchases and the books that they have rated highly."
   ]
  },
  {
   "cell_type": "markdown",
   "metadata": {},
   "source": [
    "### (b) Playing tic-tac-toe\n",
    "\n",
    "Playing tic-tac-toe can be a couple of different types of learning.<br>\n",
    "It can be supervised learning if the training data is a set of games that have been played before .<br>\n",
    "It can be reinforcement learning if Ai learns through trail and error. The algorithm would be fed rewards based on how good the move was andthe training data is the result of each move, rewards recieved, and the coutcome of the game.<br>"
   ]
  },
  {
   "cell_type": "markdown",
   "metadata": {},
   "source": [
    "### (c) Categorizing movies into different types\n",
    "\n",
    "Unsupervised learning because we don't necessarily have to give the different types of movie. The algorithm could classify based off of movie length, average brightness, or even how many characters there are in the movie. The training data would be a database of movies and their attributes.\n",
    "\n",
    "This could also be supervised learning if we have predetermined categories for the movies. The training data would be a database of movies and their categories."
   ]
  },
  {
   "cell_type": "markdown",
   "metadata": {},
   "source": [
    "### (b) Learning to play music\n",
    "\n",
    "Reinforcement learning because the algorithm would develop a sound and we would then have to provide feedback on whether that soudn is a song or not. The training data would be the songs that the computer has generated and a score on whether it is good music, bad music, or even music at all."
   ]
  },
  {
   "cell_type": "markdown",
   "metadata": {},
   "source": [
    "### (e) Credit limit: Deciding the maximum allowed debt for each bank customer\n",
    "\n",
    "Supervised learning because the training data would be the customer's previous purchases and the amount of debt that they have."
   ]
  },
  {
   "cell_type": "markdown",
   "metadata": {},
   "source": [
    "## Exercise 1.10\n",
    "\n",
    "Here is an experiment that illustrates between a single bin and multiple bins. Run a computer simulation for flipping 1,000 fair coins. Flip each coin independently 10 times. Let's focus on 3 coins as follows: $$$$c1$$$$ is the first coin flipped; $c_{rand}$ is a coin you choose at random; $c_{min}$ is the coin that had the minimum frequency of heads (pick the earlier one in case of a tie). Let $v_1$, $v_{rand}$, and $v_{min}$ be the fraction of heads you obtain for the respective three coins. For a coin, let $\\mu$ be its probability of heads"
   ]
  },
  {
   "cell_type": "code",
   "execution_count": 13,
   "metadata": {},
   "outputs": [
    {
     "name": "stdout",
     "output_type": "stream",
     "text": [
      "Fraction of heads for c1: 46.9\n",
      "Fraction of heads for crand: 0.4\n",
      "Fraction of heads for cmin: 0.0\n"
     ]
    }
   ],
   "source": [
    "import random\n",
    "\n",
    "# Number of coins and coin flips\n",
    "num_coins = 1000\n",
    "num_flips = 10\n",
    "\n",
    "# Initialize variables to keep track of heads counts\n",
    "heads_count_c1 = 0\n",
    "heads_count_crand = 0\n",
    "min_heads_count = num_flips  # Initialize to maximum possible value\n",
    "\n",
    "# Simulate the coin flips\n",
    "for coin in range(num_coins):\n",
    "    heads_count = 0  # Count of heads for the current coin\n",
    "    for flip in range(num_flips):\n",
    "        # Simulate a coin flip (0 for tails, 1 for heads)\n",
    "        result = random.randint(0, 1)\n",
    "        if flip == 0:  # First flip\n",
    "            if result == 1:  # If it's a head, assign it to c1\n",
    "                heads_count_c1 += 1\n",
    "        if coin == random.randint(0, num_coins - 1):  # Randomly choose a coin for crand\n",
    "            if result == 1:  # If it's a head, assign it to crand\n",
    "                heads_count_crand += 1\n",
    "        heads_count += result  # Update heads count for the current coin\n",
    "    # Update min_heads_count and v_min if needed\n",
    "    if heads_count < min_heads_count:\n",
    "        min_heads_count = heads_count\n",
    "        v_min = heads_count / num_flips\n",
    "\n",
    "# Calculate v1 and vrand\n",
    "v1 = heads_count_$$$$$$$$$$$c1$$$$$$$$$$$ / num_flips\n",
    "vrand = heads_count_crand / num_flips\n",
    "\n",
    "# Print the results\n",
    "print(\"Fraction of heads for c1:\", v1)\n",
    "print(\"Fraction of heads for crand:\", vrand)\n",
    "print(\"Fraction of heads for cmin:\", v_min)\n"
   ]
  },
  {
   "cell_type": "markdown",
   "metadata": {},
   "source": [
    "### (a) What is $\\mu$ for the three coins selected?\n",
    "\n",
    "$\\mu$ is 0.5 for all three coins"
   ]
  },
  {
   "cell_type": "markdown",
   "metadata": {},
   "source": [
    "### (b) Repeat this entire experiment a large number of times (e.g., 100,000 runs of the entire experiment) to get several instances of $v_1$, $v_{rand}$, and $v_{min}$ and plot the histograms of the distributions of $v_1$, $v_{rand}$, and $v_{min}$. Notice that which coins end up being $c1$, $c_{rand}$, and $c_{min}$ may differ from one run to another."
   ]
  },
  {
   "cell_type": "code",
   "execution_count": 17,
   "metadata": {},
   "outputs": [
    {
     "data": {
      "image/png": "[encoded data removed]",
      "text/plain": [
       "<Figure size 1200x400 with 3 Axes>"
      ]
     },
     "metadata": {},
     "output_type": "display_data"
    }
   ],
   "source": [
    "import random\n",
    "import matplotlib.pyplot as plt\n",
    "\n",
    "# Number of coins and coin flips\n",
    "num_coins = 1000\n",
    "num_flips = 10\n",
    "num_simulations = 100000  # Number of times to repeat the experiment\n",
    "\n",
    "# Lists to store the results for each simulation\n",
    "v1_values = []\n",
    "vrand_values = []\n",
    "vmin_values = []\n",
    "\n",
    "# Repeat the experiment a large number of times\n",
    "for _ in range(num_simulations):\n",
    "    # Initialize variables to keep track of heads counts\n",
    "    heads_count_c1 = 0\n",
    "    heads_count_crand = 0\n",
    "    min_heads_count = num_flips\n",
    "\n",
    "    # Simulate the coin flips\n",
    "    for coin in range(num_coins):\n",
    "        heads_count = 0  # Count of heads for the current coin\n",
    "        for flip in range(num_flips):\n",
    "            # Simulate a coin flip (0 for tails, 1 for heads)\n",
    "            result = random.randint(0, 1)\n",
    "            if flip == 0:  # First flip\n",
    "                if result == 1:  # If it's a head, assign it to c1\n",
    "                    heads_count_c1 += 1\n",
    "            if coin == random.randint(0, num_coins - 1):  # Randomly choose a coin for crand\n",
    "                if result == 1:  # If it's a head, assign it to crand\n",
    "                    heads_count_crand += 1\n",
    "            heads_count += result  # Update heads count for the current coin\n",
    "        # Update min_heads_count and v_min if needed\n",
    "        if heads_count < min_heads_count:\n",
    "            min_heads_count = heads_count\n",
    "\n",
    "    # Calculate v1, vrand, and vmin for this simulation\n",
    "    v1 = heads_count_c1 / num_flips\n",
    "    vrand = heads_count_crand / num_flips\n",
    "    vmin = min_heads_count / num_flips\n",
    "\n",
    "    # Store the results in lists\n",
    "    v1_values.append(v1)\n",
    "    vrand_values.append(vrand)\n",
    "    vmin_values.append(vmin)\n",
    "\n",
    "# Plot histograms of the distributions\n",
    "plt.figure(figsize=(12, 4))\n",
    "plt.subplot(131)\n",
    "plt.hist(v1_values, bins=20, density=True, alpha=0.75)\n",
    "plt.title('$v_1$ Distribution')\n",
    "plt.xlabel('Fraction of Heads')\n",
    "plt.ylabel('Probability Density')\n",
    "\n",
    "plt.subplot(132)\n",
    "plt.hist(vrand_values, bins=20, density=True, alpha=0.75)\n",
    "plt.title('$v_{rand}$ Distribution')\n",
    "plt.xlabel('Fraction of Heads')\n",
    "plt.ylabel('Probability Density')\n",
    "\n",
    "plt.subplot(133)\n",
    "plt.hist(vmin_values, bins=20, density=True, alpha=0.75)\n",
    "plt.title('$v_{min}$ Distribution')\n",
    "plt.xlabel('Fraction of Heads')\n",
    "plt.ylabel('Probability Density')\n",
    "\n",
    "plt.tight_layout()\n",
    "plt.show()\n"
   ]
  },
  {
   "cell_type": "markdown",
   "metadata": {},
   "source": [
    "### (c) Using (b), plot estimates for $P(|v-\\mu|>\\epsilon)$ as a function of $\\epsilon$, together with the Hoeffding bound $2e^{-2\\epsilon^2N}$. (on the same graph)"
   ]
  },
  {
   "cell_type": "code",
   "execution_count": 18,
   "metadata": {},
   "outputs": [
    {
     "data": {
      "image/png": "[encoded data removed]",
      "text/plain": [
       "<Figure size 1000x600 with 1 Axes>"
      ]
     },
     "metadata": {},
     "output_type": "display_data"
    }
   ],
   "source": [
    "import random\n",
    "import matplotlib.pyplot as plt\n",
    "import numpy as np\n",
    "\n",
    "# Number of coins and coin flips\n",
    "num_coins = 1000\n",
    "num_flips = 10\n",
    "num_experiments = 100000  # Number of times to repeat the experiment\n",
    "\n",
    "# Initialize lists to store results\n",
    "v1_values = []\n",
    "vrand_values = []\n",
    "vmin_values = []\n",
    "\n",
    "# Repeat the experiment a large number of times\n",
    "for _ in range(num_experiments):\n",
    "        # Initialize variables to keep track of heads counts\n",
    "    heads_count_c1 = 0\n",
    "    heads_count_crand = 0\n",
    "    min_heads_count = num_flips\n",
    "\n",
    "    # Simulate the coin flips\n",
    "    for coin in range(num_coins):\n",
    "        heads_count = 0  # Count of heads for the current coin\n",
    "        for flip in range(num_flips):\n",
    "            # Simulate a coin flip (0 for tails, 1 for heads)\n",
    "            result = random.randint(0, 1)\n",
    "            if flip == 0:  # First flip\n",
    "                if result == 1:  # If it's a head, assign it to c1\n",
    "                    heads_count_c1 += 1\n",
    "            if coin == random.randint(0, num_coins - 1):  # Randomly choose a coin for crand\n",
    "                if result == 1:  # If it's a head, assign it to crand\n",
    "                    heads_count_crand += 1\n",
    "            heads_count += result  # Update heads count for the current coin\n",
    "        # Update min_heads_count and v_min if needed\n",
    "        if heads_count < min_heads_count:\n",
    "            min_heads_count = heads_count\n",
    "\n",
    "    # Calculate v1, vrand, and vmin for this simulation\n",
    "    v1 = heads_count_c1 / num_flips\n",
    "    vrand = heads_count_crand / num_flips\n",
    "    vmin = min_heads_count / num_flips\n",
    "\n",
    "    # Store the results in lists\n",
    "    v1_values.append(v1)\n",
    "    vrand_values.append(vrand)\n",
    "    vmin_values.append(vmin)\n",
    "\n",
    "# Define a range of epsilon values\n",
    "epsilon_values = np.linspace(0, 0.5, 100)  # Adjust the range as needed\n",
    "\n",
    "# Initialize lists to store probabilities\n",
    "prob_v1 = []\n",
    "prob_vrand = []\n",
    "prob_vmin = []\n",
    "hoeffding_bound = []\n",
    "\n",
    "# Calculate probabilities for different epsilons\n",
    "for epsilon in epsilon_values:\n",
    "    # Calculate the mean for this epsilon\n",
    "    mu = 0.5 - epsilon\n",
    "\n",
    "    # Calculate probabilities for v1, vrand, and vmin\n",
    "    prob_v1.append(np.mean(np.abs(np.array(v1_values) - mu) > epsilon))\n",
    "    prob_vrand.append(np.mean(np.abs(np.array(vrand_values) - mu) > epsilon))\n",
    "    prob_vmin.append(np.mean(np.abs(np.array(vmin_values) - mu) > epsilon))\n",
    "\n",
    "    # Calculate the Hoeffding bound\n",
    "    hoeffding_bound.append(2 * np.exp(-2 * epsilon**2 * num_coins))\n",
    "\n",
    "# Plot estimates and Hoeffding bound\n",
    "plt.figure(figsize=(10, 6))\n",
    "plt.plot(epsilon_values, prob_v1, label='P(|v1 - mu| > epsilon)', color='blue')\n",
    "plt.plot(epsilon_values, prob_vrand, label='P(|vrand - mu| > epsilon)', color='green')\n",
    "plt.plot(epsilon_values, prob_vmin, label='P(|vmin - mu| > epsilon)', color='red')\n",
    "plt.plot(epsilon_values, hoeffding_bound, label='Hoeffding Bound', linestyle='--', color='black')\n",
    "plt.xlabel('Epsilon')\n",
    "plt.ylabel('Probability')\n",
    "plt.legend()\n",
    "plt.title('Estimates vs. Hoeffding Bound')\n",
    "plt.grid(True)\n",
    "plt.show()\n"
   ]
  },
  {
   "cell_type": "markdown",
   "metadata": {},
   "source": [
    "### (d) Which coins obey the Hoeffding bound, and which ones do not? Explain why.\n",
    "\n",
    "$c1$ and $c_{rand}$ obey the Hoeffding bound because they are single coins. This is because $c1$ is fixed for each experiment and is not influenced by randomness in coin selection. The reason is that cRand is randomly selected for each experiment, but the law of large numbers ensures that, on average, its behavior converges to the expected value of 0.5.\n",
    "<br>\n",
    "$c_{min}$ does not obey the Hoeffding bound because it is the minimum of 10 coins. This is because the minimum of 10 coins is more likely to be further from the mean than a single coin. We are choosing the worst case scenario and given such a large sample size it would make sense that it would be further from the mean."
   ]
  },
  {
   "cell_type": "markdown",
   "metadata": {},
   "source": [
    "### (e) Relate part (d) to the multiple bins of the histogram.\n",
    "\n",
    "The relationship between the behavior of the coins (c1, crand, and cmin) and the multiple bins of the histogram can be explained as follows:\n",
    "\n",
    "1. **c1 (First Coin Flipped):**\n",
    "   - Behavior: c1 exhibits relatively stable behavior across multiple runs of the experiment. Its fraction of heads $v_1$ tends to be closer to the expected value of 0.5.\n",
    "   - Histogram: When you plot the histogram of $v_1$ for different runs of the experiment, you will observe a relatively narrow distribution centered around 0.5. The histogram bins in this case will show that most of the values of $v_1$ fall close to 0.5, indicating a low probability of $|v_1 - \\mu| > \\epsilon$ for various values of $\\epsilon$.\n",
    "\n",
    "2. **crand (Randomly Selected Coin):**\n",
    "   - Behavior: crand also exhibits behavior that converges to the expected value of 0.5 due to the law of large numbers. It is influenced by randomness but tends to stabilize with a large number of experiments.\n",
    "   - Histogram: The histogram of $vrand$ will resemble a distribution similar to $v_1$, centered around 0.5. Most of the values of $vrand$ will fall close to 0.5 in the histogram bins, indicating a low probability of $|v_{\\text{rand}} - \\mu| > \\epsilon$ for various values of $\\epsilon$.\n",
    "\n",
    "3. **cmin (Coin with Minimum Heads):**\n",
    "   - Behavior: cmin exhibits more variable behavior across different runs of the experiment. It is sensitive to the specific outcomes of the coin flips and may lead to biased values due to randomness.\n",
    "   - Histogram: The histogram of $vmin$ will have a wider distribution compared to $v_1$ and $vrand$. It may not be centered precisely at 0.5. Instead, it may show more values deviating from 0.5 in the histogram bins. This indicates a higher probability of $|v_{\\text{min}} - \\mu| > \\epsilon$ for various values of $\\epsilon$ compared to c1 and crand.\n",
    "\n",
    "In summary, the histograms of $v_1$, $vrand$, and $vmin$ reflect the different behaviors of these coins in response to randomness. c1 and crand tend to produce histograms with narrower distributions centered around 0.5, while cmin produces a histogram with a wider distribution, indicating greater variability and a higher likelihood of deviations from the expected value of 0.5. These observations align with the discussion of how each coin relates to the Hoeffding bound."
   ]
  },
  {
   "cell_type": "markdown",
   "metadata": {},
   "source": [
    "# **PRML**"
   ]
  },
  {
   "cell_type": "markdown",
   "metadata": {},
   "source": [
    "## **Exercise 1.1**\n",
    "\n",
    "Consider the sum-of-square error function given by (1.2) in which the function $y(x,w)$ is given by the polynomial (1.1). Show that the coefficients $w$ that minimize this error function are given by the solution to the set of linear equations\n",
    "\n",
    "$$\\sum_{j=0}^M A_{ij}w_j = T_i$$\n",
    "\n",
    "where\n",
    "\n",
    "$$A_{ij} = \\sum_{n=1}^Nx_n^{i+j}$$\n",
    "$$T_i = \\sum_{n=1}^Nt_nx_n^i$$\n",
    "\n",
    "\n",
    "(1.1) $$y(x,w) = w_0 + w_1x + w_2x^2 + ... + w_Mx^M = \\sum_{j=0}^Mw_jx^j$$\n",
    "\n",
    "(1.2) $$\\mathbb{E}(w) = \\frac{1}{2}\\sum_{n=1}^N\\{y(x_n,w)-t_n\\}^2$$"
   ]
  },
  {
   "cell_type": "markdown",
   "metadata": {},
   "source": [
    "### **Solution:**\n",
    "\n",
    "To find the coefficients $w$ that minimize the error function $\\mathbb{E}(w)$ given in equation (1.2), we need to take the derivative of $\\mathbb{E}(w)$ with respect to each coefficient $w_j$ and set them to zero:\n",
    "\n",
    "1. Derivative of $\\mathbb{E}(w)$ with respect to $w_j$:\n",
    "\n",
    "\\begin{align*}\n",
    "\\frac{\\partial \\mathbb{E}(w)}{\\partial w_j} &= \\frac{1}{2} \\sum_{n=1}^N 2(y(x_n, w) - t_n)\\frac{\\partial}{\\partial w_j}(y(x_n, w)) \\\\\n",
    "&= \\sum_{n=1}^N (y(x_n, w) - t_n)\\frac{\\partial}{\\partial w_j}(\\sum_{i=0}^M w_ix_n^i) \\\\\n",
    "&= \\sum_{n=1}^N (y(x_n, w) - t_n)x_n^j \\quad \\text{(since the derivative of $w_i x_n^i$ is $x_n^i$ for $i = j$)}\n",
    "\\end{align*}\n",
    "\n",
    "2. Set the derivative equal to zero and solve for each $w_j$:\n",
    "\n",
    "\\begin{align*}\n",
    "0 &= \\sum_{n=1}^N (y(x_n, w) - t_n)x_n^j \\\\\n",
    "&= \\sum_{n=1}^N (\\sum_{i=0}^M w_ix_n^i - t_n)x_n^j \\\\\n",
    "&= \\sum_{n=1}^N (\\sum_{i=0}^M w_ix_n^{i+j} - t_nx_n^j)\\\\\n",
    "&= \\sum_{n=1}^N \\sum_{i=0}^M w_ix_n^{i+j} - \\sum_{n=1}^N t_nx_n^j\\\\\n",
    "&= \\sum_{n=1}^N \\sum_{i=0}^M w_ix_n^{i+j} - \\sum_{n=1}^N t_nx_n^j\\\\\n",
    "&= \\sum_{n=1}^N \\sum_{i=0}^M w_ix_n^{i+j} - \\sum_{n=1}^N t_nx_n^j\\\\\n",
    "\\sum_{n=1}^N t_nx_n^j &= \\sum_{n=1}^N \\sum_{i=0}^M w_ix_n^{i+j}\n",
    "\\end{align*}\n",
    "\n",
    "\n",
    "\n",
    "$$\\sum_{j=0}^M A_{ij}w_j = T_i$$\n",
    "\n",
    "Where:\n",
    "\n",
    "$$A_{ij} = \\sum_{n=1}^Nx_n^{i+j}$$\n",
    "$$T_i = \\sum_{n=1}^Nt_nx_n^i$$\n",
    "\n",
    "So, the coefficients $w$ that minimize the error function $\\mathbb{E}(w)$ are given by the solution to the set of linear equations:\n",
    "\n",
    "$$\\sum_{j=0}^M A_{ij}w_j = T_i$$"
   ]
  },
  {
   "cell_type": "markdown",
   "metadata": {},
   "source": [
    "## **Exercise 1.5**\n",
    "\n",
    "Using the definition (1.38) show that $var[f(x)]$ satisfies (1.39)\n",
    "\n",
    "(1.38) $$var[f(x)] = \\mathbb{E}[f(x) - \\mathbb{E}f(x)^2]$$\n",
    "\n",
    "(1.39) $$var[f(x)] = \\mathbb{E}[f(x)^2] - \\mathbb{E}[f(x)]^2$$"
   ]
  },
  {
   "cell_type": "markdown",
   "metadata": {},
   "source": [
    "### **Solution:**\n",
    "\n",
    "\\begin{align*}\n",
    "\\text{Var}[f(x)] &= \\mathbb{E}[(f(x) - \\mathbb{E}[f(x)])^2]\\\\\n",
    "&= \\mathbb{E}[f(x)^2 - 2f(x)\\mathbb{E}[f(x)] + \\mathbb{E}[f(x)]^2]\\\\\n",
    "&= \\mathbb{E}[f(x)^2] - 2\\mathbb{E}[f(x)]\\mathbb{E}[f(x)] + \\mathbb{E}[\\mathbb{E}[f(x)]^2]\\\\\n",
    "&= \\mathbb{E}[f(x)^2] - 2\\mathbb{E}[f(x)]\\mathbb{E}[f(x)] + \\mathbb{E}[f(x)]^2\\\\\n",
    "&= \\mathbb{E}[f(x)^2] - 2\\mathbb{E}[f(x)]^2 + \\mathbb{E}[f(x)]^2\\\\\n",
    "&= \\mathbb{E}[f(x)^2] - \\mathbb{E}[f(x)]^2\\\\\n",
    "\\end{align*}\n",
    "\n",
    "\n",
    "\n"
   ]
  },
  {
   "cell_type": "markdown",
   "metadata": {},
   "source": [
    "## **Exercise 1.6**\n",
    "\n",
    "Show that if two variables $x$ and $y$ are independent, then their covariance is zero."
   ]
  },
  {
   "cell_type": "markdown",
   "metadata": {},
   "source": [
    "### **Solution:**\n",
    "The covariance between two random variables $x$ and $y$ is:\n",
    "\n",
    "$$\\text{Cov}(x, y) = E[(x - \\mu_x)(y - \\mu_y)]$$\n",
    "\n",
    "If $x$ and $y$ are independent:\n",
    "\n",
    "$$P(x, y) = P(x) \\cdot P(y)$$\n",
    "\n",
    "Mean of $x$ and $y$:\n",
    "\n",
    "$$\\mu_x = E[x] = \\int x \\cdot P(x) \\, dx$$\n",
    "$$\\mu_y = E[y] = \\int y \\cdot P(y) \\, dy$$\n",
    "\n",
    "Covariance:\n",
    "\n",
    "\\begin{align*}\n",
    "\\text{Cov}(x, y) &= E[(x - \\mu_x)(y - \\mu_y)] \\\\\n",
    "&= E[xy - x\\mu_y - y\\mu_x + \\mu_x\\mu_y] \\\\\n",
    "&= E[xy] - E[x\\mu_y] - E[y\\mu_x] + E[\\mu_x\\mu_y]\n",
    "\\end{align*}\n",
    "\n",
    "We can simplify the following\n",
    "\n",
    "\\begin{align*}\n",
    "&E[xy] = E[x] \\cdot E[y] = \\mu_x \\cdot \\mu_y \\\\\n",
    "&E[x\\mu_y] = \\mu_y \\cdot E[x] = \\mu_x \\cdot \\mu_y \\\\\n",
    "&E[y\\mu_x] = \\mu_x \\cdot \\mu_y \\\\\n",
    "&E[\\mu_x\\mu_y] = \\mu_x \\cdot \\mu_y \\\\\n",
    "\\end{align*}\n",
    "\n",
    "Substitute back in:\n",
    "\n",
    "\\begin{align*}\n",
    "\\text{Cov}(x, y) &= \\mu_x \\cdot \\mu_y - \\mu_x \\cdot \\mu_y - \\mu_x \\cdot \\mu_y + \\mu_x \\cdot \\mu_y \\\\\n",
    "&= \\mu_x \\cdot \\mu_y - \\mu_x \\cdot \\mu_y - \\mu_x \\cdot \\mu_y + \\mu_x \\cdot \\mu_y \\\\\n",
    "&= 0\n",
    "\\end{align*}\n",
    "\n",
    "Therefore, if $x$ and $y$ are independent random variables, their covariance is indeed zero."
   ]
  },
  {
   "cell_type": "markdown",
   "metadata": {},
   "source": [
    "## **Exercise 1.9**\n",
    "\n",
    "Show that the mode (i.e. the maximum) of the Gaussian distribution (1.46) is given by $\\mu$. Similarly, show that the mode of the multivariate Gaussian (1.52) is given by $\\boldsymbol{\\mu}$.\n",
    "\n",
    "(1.46) $$N(x|\\mu,\\sigma^2) = \\frac{1}{(2\\pi\\sigma^2)^{1/2}}exp\\{-\\frac{1}{2\\sigma^2}(x-\\mu)^2\\}$$\n",
    "\n",
    "(1.52) $$N(\\mathbf{x}|\\boldsymbol{\\mu},\\mathbf{\\Sigma}) = \\frac{1}{(2\\pi)^{D/2}}\\frac{1}{|\\mathbf{\\Sigma}|^{1/2}}exp\\{-\\frac{1}{2}(\\mathbf{x}-\\boldsymbol{\\mu})^T\\mathbf{\\Sigma}^{-1}(\\mathbf{x}-\\boldsymbol{\\mu})\\}$$"
   ]
  },
  {
   "cell_type": "markdown",
   "metadata": {},
   "source": [
    "### **Solution:**\n",
    "\n",
    "We need to find the value of x or 𝐱 that maximizes the probability density function of each distribution by differentiating the log of the probability density function with respect to the variable and set the derivative equal to zero and find the mode.\n",
    "\n",
    "#### Univariate Gaussian:\n",
    "$$N(x|\\mu, \\sigma^2) = \\frac{1}{(2\\pi\\sigma^2)^{1/2}} \\exp\\left\\{-\\frac{1}{2\\sigma^2}(x-\\mu)^2\\right\\}$$\n",
    "\n",
    "$$\\ln N(x|\\mu, \\sigma^2) = \\ln \\left(\\frac{1}{(2\\pi\\sigma^2)^{1/2}} \\exp\\left\\{-\\frac{1}{2\\sigma^2}(x-\\mu)^2\\right\\}\\right)$$\n",
    "\n",
    "$$\\ln N(x|\\mu, \\sigma^2) = -\\frac{1}{2}\\ln(2\\pi\\sigma^2) - \\frac{1}{2\\sigma^2}(x-\\mu)^2$$\n",
    "\n",
    "$$\\frac{d}{dx}\\ln N(x|\\mu, \\sigma^2) = -\\frac{1}{2\\sigma^2}\\cdot 2(x-\\mu)$$\n",
    "\n",
    "Setting the derivative equal to zero:\n",
    "\n",
    "$$-\\frac{1}{2\\sigma^2}\\cdot 2(x-\\mu) = 0$$\n",
    "\n",
    "$$x - \\mu = 0$$\n",
    "\n",
    "$$x = \\mu$$\n",
    "\n",
    "\n",
    "#### Multivariate Gaussian:\n",
    "$$N(\\mathbf{x}|\\boldsymbol{\\mu},\\mathbf{\\Sigma}) = \\frac{1}{(2\\pi)^{D/2}}\\frac{1}{|\\mathbf{\\Sigma}|^{1/2}}\\exp\\left\\{-\\frac{1}{2}(\\mathbf{x}-\\boldsymbol{\\mu})^T\\mathbf{\\Sigma}^{-1}(\\mathbf{x}-\\boldsymbol{\\mu})\\right\\}$$\n",
    "\n",
    "$$\\ln N(\\mathbf{x}|\\boldsymbol{\\mu},\\mathbf{\\Sigma}) = \\ln \\left(\\frac{1}{(2\\pi)^{D/2}}\\frac{1}{|\\mathbf{\\Sigma}|^{1/2}}\\exp\\left\\{-\\frac{1}{2}(\\mathbf{x}-\\boldsymbol{\\mu})^T\\mathbf{\\Sigma}^{-1}(\\mathbf{x}-\\boldsymbol{\\mu})\\right\\}\\right)$$\n",
    "\n",
    "$$\\ln N(\\mathbf{x}|\\boldsymbol{\\mu},\\mathbf{\\Sigma}) = -\\frac{D}{2}\\ln(2\\pi) - \\frac{1}{2}\\ln|\\mathbf{\\Sigma}| - \\frac{1}{2}(\\mathbf{x}-\\boldsymbol{\\mu})^T\\mathbf{\\Sigma}^{-1}(\\mathbf{x}-\\boldsymbol{\\mu})$$\n",
    "\n",
    "Differentiate with respect to 𝒙 and set it equal to zero:\n",
    "\n",
    "$$\\nabla_{\\mathbf{x}} \\ln N(\\mathbf{x}|\\boldsymbol{\\mu},\\mathbf{\\Sigma}) = -\\mathbf{\\Sigma}^{-1}(\\mathbf{x}-\\boldsymbol{\\mu}) = 0$$\n",
    "\n",
    "$$\\mathbf{x} - \\boldsymbol{\\mu} = 0$$\n",
    "\n",
    "$$\\mathbf{x} = \\boldsymbol{\\mu}$$"
   ]
  },
  {
   "cell_type": "markdown",
   "metadata": {},
   "source": [
    "## Exercise **1.11**\n",
    "\n",
    "By setting the derivative of log likelihood function (1.54) with respect to $\\mu$ and $\\sigma^2$ to zero, verify the results (1.55) and (1.56)\n",
    "\n",
    "(1.54) $$lnp(\\mathbf{X}|\\mu,\\sigma^2) = -\\frac{1}{2\\sigma^2}\\sum_{n=1}^N(x_n-\\mu)^2 - \\frac{N}{2}ln\\sigma^2 - \\frac{N}{2}ln(2\\pi)$$\n",
    "\n",
    "(1.55) $$\\mu_{ML} = \\frac{1}{N}\\sum_{n=1}^Nx_n$$\n",
    "\n",
    "(1.56) $$\\sigma_{ML}^2 = \\frac{1}{N}\\sum_{n=1}^N(x_n-\\mu_{ML})^2$$"
   ]
  },
  {
   "cell_type": "markdown",
   "metadata": {},
   "source": [
    "### **Solution:**\n",
    "\n",
    "#### Derivative with respect to μ:\n",
    "Let's first find the derivative of the log likelihood (1.54) with respect to μ:\n",
    "\n",
    "$$\\frac{d}{d\\mu} \\ln p(\\mathbf{X}|\\mu, \\sigma^2) = \\frac{d}{d\\mu} \\left(-\\frac{1}{2\\sigma^2}\\sum_{n=1}^N(x_n-\\mu)^2 - \\frac{N}{2}\\ln\\sigma^2 - \\frac{N}{2}\\ln(2\\pi)\\right)$$\n",
    "\n",
    "The second and third term in the sum does not depend on μ, so their derivatives are zero. Therefore, we only need to consider the derivative of the first term:\n",
    "\n",
    "$$\\frac{d}{d\\mu} \\left(-\\frac{1}{2\\sigma^2}\\sum_{n=1}^N(x_n-\\mu)^2\\right) = -\\frac{1}{\\sigma^2}\\sum_{n=1}^N(x_n-\\mu)$$\n",
    "\n",
    "Set the derivative equal to zero:\n",
    "\n",
    "$$-\\frac{1}{\\sigma^2}\\sum_{n=1}^N(x_n-\\mu) = 0$$\n",
    "\n",
    "Solving for μ:\n",
    "\n",
    "$$\\sum_{n=1}^N(x_n-\\mu) = 0$$\n",
    "\n",
    "$$\\sum_{n=1}^Nx_n - N\\mu = 0$$\n",
    "\n",
    "$$N\\mu = \\sum_{n=1}^Nx_n$$\n",
    "\n",
    "$$\\mu = \\frac{1}{N}\\sum_{n=1}^Nx_n$$\n",
    "\n",
    "#### Derivative with respect to σ²:\n",
    "$$\\frac{d}{d\\sigma^2} \\ln p(\\mathbf{X}|\\mu, \\sigma^2) = \\frac{d}{d\\sigma^2} \\left(-\\frac{1}{2\\sigma^2}\\sum_{n=1}^N(x_n-\\mu)^2 - \\frac{N}{2}\\ln\\sigma^2 - \\frac{N}{2}\\ln(2\\pi)\\right)$$\n",
    "\n",
    "Chain rule:\n",
    "\n",
    "$$\\frac{d}{d\\sigma^2} \\ln p(\\mathbf{X}|\\mu, \\sigma^2) = \\frac{1}{2(\\sigma^2)^2}\\sum_{n=1}^N(x_n-\\mu)^2 -\\frac{N}{2\\sigma^2}$$\n",
    "\n",
    "Set derivative with respect to σ² equal to zero:\n",
    "\n",
    "$$\\frac{1}{2(\\sigma^2)^2}\\sum_{n=1}^N(x_n-\\mu)^2 -\\frac{N}{2\\sigma^2} = 0$$\n",
    "\n",
    "$$\\sum_{n=1}^N(x_n-\\mu)^2 - N\\sigma^2 = 0$$\n",
    "\n",
    "\n",
    "$$\\sum_{n=1}^N(x_n-\\mu)^2 = N\\sigma^2$$\n",
    "\n",
    "\n",
    "$$\\sigma^2_{ML} = \\frac{1}{N}\\sum_{n=1}^N(x_n-\\mu)^2$$"
   ]
  },
  {
   "cell_type": "markdown",
   "metadata": {},
   "source": [
    "## **Exercise 1.12**\n",
    "\n",
    "Using the results (1.49) and (1.50), show that the $E[x_n x_m] = \\mu^2 + I_{nm}\\sigma^2$ where $x_n$ and $x_m$ denote data point sampled from a Gaussian distribution with mean $\\mu$ and variance $\\sigma^2$, and $I_{nm}$ satisfies $I_{nm} = 1$ if $n = m$ and $I_{nm} = 0$ otherwise. Hence prove the result (1.57) and (1.58)\n",
    "\n",
    "(1.49) $$\\mathbb{E}[x] = \\int_{-\\infty}^{\\infty}N(x|\\mu,\\sigma^2)xdx = \\mu$$\n",
    "\n",
    "(1.50) $$\\mathbb{E}[x^2] = \\int_{-\\infty}^{\\infty}N(x|\\mu,\\sigma^2)x^2dx = \\mu^2 + \\sigma^2$$\n",
    "\n",
    "(1.57) $$\\mathbb{E}[\\mu_{ML}] = \\mu$$\n",
    "\n",
    "(1.58) $$\\mathbb{E}[\\sigma_{ML}^2] = \\frac{N-1}{N}\\sigma^2$$"
   ]
  },
  {
   "cell_type": "markdown",
   "metadata": {},
   "source": [
    "### **Solution:**\n",
    "\n",
    "E[x_n x_m] = \\mu^2 + I_{nm}\\sigma^2$:\n",
    "   \\begin{align*}\n",
    "   E[x_n x_m] &= \\mathbb{E}[(x_n - \\mu)(x_m - \\mu)] + \\mu^2 \\\\\n",
    "   &= \\int_{-\\infty}^{\\infty}N(x_n|\\mu,\\sigma^2)(x_m - \\mu)dx_n + \\mu^2 \\\\\n",
    "   &= \\int_{-\\infty}^{\\infty}N(x_n|\\mu,\\sigma^2)x_mdx_n - \\mu\\int_{-\\infty}^{\\infty}N(x_n|\\mu,\\sigma^2)dx_n + \\mu^2 \\\\\n",
    "   &= x_m\\int_{-\\infty}^{\\infty}N(x_n|\\mu,\\sigma^2)dx_n - \\mu + \\mu^2 \\\\\n",
    "   &= x_m - \\mu + \\mu^2 \\\\\n",
    "   &= \\mu^2 + x_m - \\mu\n",
    "   \\end{align*}\n",
    "\n",
    "   - If $n = m$ (i.e., $I_{nm} = 1$), then $E[x_n x_m] = \\mu^2 + \\mu - \\mu = \\mu^2$.\n",
    "   - If $n \\neq m$ (i.e., $I_{nm} = 0$), then $E[x_n x_m] = \\mu^2 + x_m - \\mu$ .\n",
    "\n",
    "   So, $E[x_n x_m] = \\mu^2 + I_{nm}\\sigma^2$.\n",
    "\n",
    "(1.57):\n",
    "\n",
    "   \\begin{align*}\n",
    "   \\mathbb{E}[\\mu_{ML}] &= \\mathbb{E}\\left[\\frac{1}{N}\\sum_{n=1}^{N}x_n\\right] \\\\\n",
    "   &= \\frac{1}{N}\\sum_{n=1}^{N}\\mathbb{E}[x_n] \\\\\n",
    "   &= \\frac{1}{N}\\sum_{n=1}^{N}\\mu \\\\\n",
    "   &= \\frac{N\\mu}{N} \\\\\n",
    "   &= \\mu\n",
    "   \\end{align*}\n",
    "\n",
    "   So, we have proved (1.57).\n",
    "\n",
    "(1.58):\n",
    "\n",
    "\n",
    "   $$\\sigma_{ML}^2 = \\frac{1}{N}\\sum_{n=1}^{N}(x_n - \\mu_{ML})^2$$\n",
    "\n",
    "\n",
    "   \\begin{align*}\n",
    "   \\mathbb{E}[\\sigma_{ML}^2] &= \\mathbb{E}\\left[\\frac{1}{N}\\sum_{n=1}^{N}(x_n - \\mu_{ML})^2\\right] \\\\\n",
    "   &= \\frac{1}{N}\\sum_{n=1}^{N}\\mathbb{E}[(x_n - \\mu_{ML})^2]\n",
    "   \\end{align*}\n",
    "\n",
    "\n",
    "   \\begin{align*}\n",
    "   \\mathbb{E}[(x_n - \\mu_{ML})^2] &= \\mathbb{E}[x_n^2 - 2x_n\\mu_{ML} + \\mu_{ML}^2] \\\\\n",
    "   &= \\mathbb{E}[x_n^2] - 2\\mathbb{E}[x_n\\mu_{ML}] + \\mathbb{E}[\\mu_{ML}^2]\n",
    "   \\end{align*}\n",
    "\n",
    "\n",
    "   \\begin{align*}\n",
    "   \\mathbb{E}[x_n^2] &= \\mu^2 + \\sigma^2 \\\\\n",
    "   \\mathbb{E}[x_n\\mu_{ML}] &= \\mu^2 \\\\\n",
    "   \\mathbb{E}[\\mu_{ML}^2] &= \\text{Var}[\\mu_{ML}] + (\\mathbb{E}[\\mu_{ML}])^2 \\\\\n",
    "   &= \\frac{\\sigma^2}{N} + \\mu^2\n",
    "   \\end{align*}\n",
    "\n",
    "   Substitute\n",
    "\n",
    "   \\begin{align*}\n",
    "   \\mathbb{E}[\\sigma_{ML}^2] &= \\frac{1}{N}\\sum_{n=1}^{N}\\left(\\mu^2 + \\sigma^2 - 2\\mu^2 + \\frac{\\sigma^2}{N} + \\mu^2\\right) \\\\\n",
    "   &= \\frac{1}{N}\\sum_{n=1}^{N}\\left(\\sigma^2 - \\mu^2 + \\frac{\\sigma^2}{N}\\right) \\\\\n",
    "   &= \\frac{1}{N}\\left(N\\left(\\sigma^2 - \\mu^2 + \\frac{\\sigma^2}{N}\\right)\\right) \\\\\n",
    "   &= \\sigma^2 - \\mu^2 + \\frac{\\sigma^2}{N} \\\\\n",
    "   &= \\frac{N}{N}\\sigma^2 - \\mu^2 + \\frac{\\sigma^2}{N} \\\\\n",
    "   &= \\frac{N\\sigma^2}{N} - \\mu^2 + \\frac{\\sigma^2}{N} \\\\\n",
    "   &= \\frac{N\\sigma^2 - \\mu^2 + \\sigma^2}{N} \\\\\n",
    "   &= \\frac{(N-1)\\sigma^2 + \\sigma^2}{N} \\\\\n",
    "   &= \\frac{N\\sigma^2 - \\sigma^2}{N} \\\\\n",
    "   &= \\frac{N-1}{N}\\sigma^2\n",
    "   \\end{align*}\n",
    "\n",
    "   So, we have proved (1.58)."
   ]
  }
 ],
 "metadata": {
  "kernelspec": {
   "display_name": "Python 3 (ipykernel)",
   "language": "python",
   "name": "python3"
  },
  "language_info": {
   "codemirror_mode": {
    "name": "ipython",
    "version": 3
   },
   "file_extension": ".py",
   "mimetype": "text/x-python",
   "name": "python",
   "nbconvert_exporter": "python",
   "pygments_lexer": "ipython3",
   "version": "3.9.6"
  }
 },
 "nbformat": 4,
 "nbformat_minor": 2
}
